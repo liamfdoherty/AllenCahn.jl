{
 "cells": [
  {
   "cell_type": "code",
   "execution_count": null,
   "metadata": {},
   "outputs": [],
   "source": [
    "using Revise\n",
    "using AllenCahn\n",
    "using Plots"
   ]
  },
  {
   "cell_type": "code",
   "execution_count": null,
   "metadata": {},
   "outputs": [],
   "source": [
    "# Construct the problem\n",
    "a = 0; b = 1\n",
    "ϵ = 0.1\n",
    "nₓ = 9\n",
    "nₜ = 100; t_max = 1\n",
    "left_bc = NeumannBC(0); right_bc = NeumannBC(0)\n",
    "u₀(x) = 1.\n",
    "problem = AllenCahnProblem1D(a, b, ϵ, nₓ, nₜ, t_max, left_bc, right_bc, u₀);"
   ]
  },
  {
   "cell_type": "code",
   "execution_count": null,
   "metadata": {},
   "outputs": [],
   "source": [
    "# Check that the problem constructor works\n",
    "println(\"a: $(problem.a), b: $(problem.b), ϵ: $(problem.ϵ), Δx: $(problem.Δx) Δt: $(problem.Δt)\")\n",
    "println(\"mesh: $(problem.x)\")"
   ]
  },
  {
   "cell_type": "code",
   "execution_count": null,
   "metadata": {},
   "outputs": [],
   "source": [
    "# Assembly and check\n",
    "assemble_system!(problem);\n",
    "println(\"A: $(problem.A)\")\n",
    "println(\"RHS: $(problem.rhs)\")"
   ]
  },
  {
   "cell_type": "code",
   "execution_count": null,
   "metadata": {},
   "outputs": [],
   "source": [
    "# Solve problem and plot solution vs. expected result\n",
    "u = solve(problem, BackwardEulerMethod())\n",
    "u_true(x) = 1.\n",
    "plot(problem.x, u_true.(problem.x), label = \"True Solution\", ylims = (0, 2))\n",
    "scatter!(problem.x, u, label = \"Numerical Solution\")"
   ]
  },
  {
   "cell_type": "code",
   "execution_count": null,
   "metadata": {},
   "outputs": [],
   "source": [
    "# Use a test to check that the package passes\n",
    "using Pkg\n",
    "Pkg.test(\"AllenCahn\")"
   ]
  }
 ],
 "metadata": {
  "kernelspec": {
   "display_name": "Julia 1.6.0",
   "language": "julia",
   "name": "julia-1.6"
  },
  "language_info": {
   "file_extension": ".jl",
   "mimetype": "application/julia",
   "name": "julia",
   "version": "1.6.0"
  }
 },
 "nbformat": 4,
 "nbformat_minor": 2
}
