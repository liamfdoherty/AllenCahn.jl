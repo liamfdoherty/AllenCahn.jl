{
 "cells": [
  {
   "cell_type": "code",
   "execution_count": null,
   "metadata": {},
   "outputs": [],
   "source": [
    "using Revise\n",
    "using AllenCahn\n",
    "using Plots; gr()\n",
    "using LinearAlgebra\n",
    "using LaTeXStrings\n",
    "using Dierckx"
   ]
  },
  {
   "cell_type": "markdown",
   "metadata": {},
   "source": [
    "# Testing the Package\n",
    "\n",
    "We start by running some basic tests of the package (checking to make sure constructors and functions run as designed, and checking a test problem). All of these tests indicate that the package was coded properly, as the test unit passes all instances of the problem (with different timestepping and initial condition combinations)."
   ]
  },
  {
   "cell_type": "code",
   "execution_count": null,
   "metadata": {},
   "outputs": [],
   "source": [
    "# Construct the problem with Neumann BCs\n",
    "a = 0; b = 1\n",
    "ϵ = 0.1\n",
    "nₓ = 9\n",
    "nₜ = 100; t_max = 1\n",
    "left_bc = NeumannBC(0); right_bc = NeumannBC(0)\n",
    "u₀(x) = 1.\n",
    "problem = AllenCahnProblem1D(a, b, ϵ, nₓ, nₜ, t_max, left_bc, right_bc, u₀);"
   ]
  },
  {
   "cell_type": "code",
   "execution_count": null,
   "metadata": {},
   "outputs": [],
   "source": [
    "# Check that the problem constructor works\n",
    "println(\"a: $(problem.a), b: $(problem.b), ϵ: $(problem.ϵ), Δx: $(problem.Δx) Δt: $(problem.Δt)\")\n",
    "println(\"mesh: $(problem.x)\")"
   ]
  },
  {
   "cell_type": "code",
   "execution_count": null,
   "metadata": {},
   "outputs": [],
   "source": [
    "# Assembly and check\n",
    "assemble_system!(problem);\n",
    "println(\"A: $(problem.A)\")\n",
    "println(\"RHS: $(problem.rhs)\")"
   ]
  },
  {
   "cell_type": "code",
   "execution_count": null,
   "metadata": {},
   "outputs": [],
   "source": [
    "# Solve problem and plot solution vs. expected result (solve with Backward Euler)\n",
    "t, u = solve(problem, BackwardEulerMethod())\n",
    "u_true(x) = 1.\n",
    "plot(problem.x, u_true.(problem.x), label = \"True Solution\", title = \"Solution with Neumann BCs + BE\", ylims = (0, 2))\n",
    "scatter!(problem.x, u[end], label = \"Numerical Solution\")\n",
    "xlabel!(\"x\"); ylabel!(\"u(x, 1)\")"
   ]
  },
  {
   "cell_type": "code",
   "execution_count": null,
   "metadata": {},
   "outputs": [],
   "source": [
    "# Construct and solve problem with Periodic BCs\n",
    "a = 0; b = 1\n",
    "ϵ = 0.1\n",
    "nₓ = 9\n",
    "nₜ = 100; t_max = 1\n",
    "left_bc = PeriodicBC(); right_bc = PeriodicBC()\n",
    "u₀(x) = 1.\n",
    "problem = AllenCahnProblem1D(a, b, ϵ, nₓ, nₜ, t_max, left_bc, right_bc, u₀);\n",
    "\n",
    "assemble_system!(problem);\n",
    "t, u = solve(problem, BackwardEulerMethod())\n",
    "plot(problem.x, u_true.(problem.x), label = \"True Solution\", title = \"Solution with Periodic BCs + BE\", ylims = (0, 2))\n",
    "scatter!(problem.x, u[end], label = \"Numerical Solution\")\n",
    "xlabel!(\"x\"); ylabel!(\"u(x, 1)\")"
   ]
  },
  {
   "cell_type": "code",
   "execution_count": null,
   "metadata": {},
   "outputs": [],
   "source": [
    "# Construct and solve problem with Neumann BCs and Crank-Nicolson\n",
    "a = 0; b = 1\n",
    "ϵ = 0.1\n",
    "nₓ = 9\n",
    "nₜ = 100; t_max = 1\n",
    "left_bc = NeumannBC(0); right_bc = NeumannBC(0)\n",
    "u₀(x) = 1.\n",
    "problem = AllenCahnProblem1D(a, b, ϵ, nₓ, nₜ, t_max, left_bc, right_bc, u₀);\n",
    "\n",
    "assemble_system!(problem);\n",
    "t, u = solve(problem, CrankNicolsonMethod())\n",
    "plot(problem.x, u_true.(problem.x), label = \"True Solution\", title = \"Solution with Neumann BCs + CN\", ylims = (0, 2))\n",
    "scatter!(problem.x, u[end], label = \"Numerical Solution\")\n",
    "xlabel!(\"x\"); ylabel!(\"u(x, 1)\")"
   ]
  },
  {
   "cell_type": "code",
   "execution_count": null,
   "metadata": {},
   "outputs": [],
   "source": [
    "# Construct and solve problem with Periodic BCs and Crank-Nicolson\n",
    "a = 0; b = 1\n",
    "ϵ = 0.1\n",
    "nₓ = 9\n",
    "nₜ = 100; t_max = 1\n",
    "left_bc = PeriodicBC(); right_bc = PeriodicBC()\n",
    "u₀(x) = 1.\n",
    "problem = AllenCahnProblem1D(a, b, ϵ, nₓ, nₜ, t_max, left_bc, right_bc, u₀);\n",
    "\n",
    "assemble_system!(problem);\n",
    "t, u = solve(problem, CrankNicolsonMethod())\n",
    "plot(problem.x, u_true.(problem.x), label = \"True Solution\", title = \"Solution with Periodic BCs + CN\", ylims = (0, 2))\n",
    "scatter!(problem.x, u[end], label = \"Numerical Solution\")\n",
    "xlabel!(\"x\"); ylabel!(\"u(x, 1)\")"
   ]
  },
  {
   "cell_type": "code",
   "execution_count": null,
   "metadata": {},
   "outputs": [],
   "source": [
    "# Use a test to check that the package passes\n",
    "using Pkg\n",
    "Pkg.test(\"AllenCahn\")"
   ]
  },
  {
   "cell_type": "markdown",
   "metadata": {},
   "source": [
    "# Computing Solutions and Assessing Convergence\n",
    "\n",
    "For a problem that we do not know the exact solution for (i.e., with $u_{0} = \\sin(2\\pi x)$ and periodic boundary conditions), we want to test the convergence in space and time. We start by computing a high resolution solution in space and time and comparing it against a solution with a more reasonable resolution:"
   ]
  },
  {
   "cell_type": "code",
   "execution_count": null,
   "metadata": {},
   "outputs": [],
   "source": [
    "# Compute a high-reslution solution for u₀ = sin(2πx)\n",
    "a = 0; b = 1\n",
    "ϵ = 0.1\n",
    "nₓ_hi = Int(1e2 - 1)\n",
    "nₜ_hi = Int(1e4); t_max = 1\n",
    "left_bc = PeriodicBC(); right_bc = PeriodicBC()\n",
    "u₀(x) = sin(2*π*x)\n",
    "\n",
    "problem_hi = AllenCahnProblem1D(a, b, ϵ, nₓ_hi, nₜ_hi, t_max, left_bc, right_bc, u₀)\n",
    "assemble_system!(problem_hi)\n",
    "tsm = BackwardEulerMethod()\n",
    "t_hi, u_hi = solve(problem_hi, tsm)\n",
    "plot(problem_hi.x, u_hi[end], label = \"uₕ\", title = \"High Resolution Solution vs. Low Resolution Solution\")\n",
    "\n",
    "# Compute a regular-resolution solution\n",
    "nₓ = Int(1e1 - 1)\n",
    "nₜ = Int(1e2); t_max = 1\n",
    "\n",
    "problem = AllenCahnProblem1D(a, b, ϵ, nₓ, nₜ, t_max, left_bc, right_bc, u₀)\n",
    "assemble_system!(problem)\n",
    "t, u = solve(problem, tsm)\n",
    "scatter!(problem.x, u[end], label = \"uₗ\")\n",
    "xlabel!(\"x\"); ylabel!(\"u(x, 1)\")"
   ]
  },
  {
   "cell_type": "markdown",
   "metadata": {},
   "source": [
    "Now we check the convergence in time for each of the timestepping methods (backwards Euler and Crank-Nicolson):"
   ]
  },
  {
   "cell_type": "code",
   "execution_count": null,
   "metadata": {},
   "outputs": [],
   "source": [
    "# Assessment of convergence rate in time with Backward Euler\n",
    "a = 0; b = 1\n",
    "ϵ = 0.1\n",
    "nₓ = 99; nₜ_hi = 100_000; t_max = 1.\n",
    "left_bc = PeriodicBC(); right_bc = PeriodicBC()\n",
    "u₀(x) = sin(2*π*x)\n",
    "\n",
    "problem_hi = AllenCahnProblem1D(a, b, ϵ, nₓ, nₜ_hi, t_max, left_bc, right_bc, u₀)\n",
    "assemble_system!(problem_hi)\n",
    "t_hi, u_hi = solve(problem_hi, BackwardEulerMethod())\n",
    "\n",
    "nₜ_values = [10^n for n ∈ 1:4]\n",
    "Δt_values = [1/nₜ for nₜ in nₜ_values]\n",
    "error_values = []\n",
    "for nₜ ∈ nₜ_values\n",
    "    problem = AllenCahnProblem1D(a, b, ϵ, nₓ, nₜ, t_max, left_bc, right_bc, u₀)\n",
    "    assemble_system!(problem)\n",
    "    t, u = solve(problem, BackwardEulerMethod())\n",
    "    error = norm(u[end] .- u_hi[end], Inf)\n",
    "    push!(error_values, error)\n",
    "end\n",
    "\n",
    "scatter(Δt_values, error_values, label = \"Infinity norm error\",\n",
    "        title = \"Rate of Convergence in Time with BE\", xscale = :log10, yscale = :log10, legend = :bottomright)\n",
    "plot!(Δt_values, Δt_values, label = \"Linear in Δt\")\n",
    "xlabel!(\"Δt\"); ylabel!(\"Error\")"
   ]
  },
  {
   "cell_type": "code",
   "execution_count": null,
   "metadata": {},
   "outputs": [],
   "source": [
    "# Assessment of convergence rate in time with Crank-Nicolson\n",
    "a = 0; b = 1\n",
    "ϵ = 0.1\n",
    "nₓ = 99; nₜ_hi = 200_000; t_max = 1.\n",
    "left_bc = PeriodicBC(); right_bc = PeriodicBC()\n",
    "u₀(x) = sin(2*π*x)\n",
    "\n",
    "problem_hi = AllenCahnProblem1D(a, b, ϵ, nₓ, nₜ_hi, t_max, left_bc, right_bc, u₀)\n",
    "assemble_system!(problem_hi)\n",
    "t_hi, u_hi = solve(problem_hi, CrankNicolsonMethod())\n",
    "\n",
    "nₜ_values = [10^n for n ∈ 1:4]\n",
    "Δt_values = [1/nₜ for nₜ in nₜ_values]\n",
    "error_values = []\n",
    "for nₜ ∈ nₜ_values\n",
    "    problem = AllenCahnProblem1D(a, b, ϵ, nₓ, nₜ, t_max, left_bc, right_bc, u₀)\n",
    "    assemble_system!(problem)\n",
    "    t, u = solve(problem, CrankNicolsonMethod())\n",
    "    error = norm(u[end] .- u_hi[end], Inf)\n",
    "    push!(error_values, error)\n",
    "end\n",
    "\n",
    "scatter(Δt_values, error_values, label = \"Infinity norm error\",\n",
    "        title = \"Rate of Convergence in Time with CN\", xscale = :log10, yscale = :log10, legend = :bottomright)\n",
    "plot!(Δt_values, Δt_values, label = \"Linear in Δt\")\n",
    "xlabel!(\"Δt\"); ylabel!(\"Error\")"
   ]
  },
  {
   "cell_type": "markdown",
   "metadata": {},
   "source": [
    "We find that Backwards Euler provides linear-in-time convergence, and Crank-Nicolson provides linear-in-time convergence. Backwards Euler's theoretical prediction is linear in time, so this is expected behavior, but the Crank-Nicolson algorithm is supposed to be quadratic in time, so the performance here is worse than expected. Next, we assess the convergence in space:"
   ]
  },
  {
   "cell_type": "code",
   "execution_count": null,
   "metadata": {},
   "outputs": [],
   "source": [
    "# Assessment of convergence rate in space with Finite Differences\n",
    "a = 0; b = 1\n",
    "ϵ = 0.1\n",
    "nₓ_hi = 1_000; nₜ = 10_000; t_max = 1.\n",
    "left_bc = PeriodicBC(); right_bc = PeriodicBC()\n",
    "u₀(x) = sin(2*π*x)\n",
    "\n",
    "problem_hi = AllenCahnProblem1D(a, b, ϵ, nₓ_hi, nₜ, t_max, left_bc, right_bc, u₀)\n",
    "assemble_system!(problem_hi)\n",
    "t_hi, u_hi = solve(problem_hi, CrankNicolsonMethod())\n",
    "u_hi_spl = Spline1D(problem_hi.x, u_hi[end], k=1);\n",
    "\n",
    "nₓ_values = 50:200:850\n",
    "Δx_values = [1/nₓ for nₓ in nₓ_values]\n",
    "error_values = []\n",
    "for nₓ ∈ nₓ_values\n",
    "    problem = AllenCahnProblem1D(a, b, ϵ, nₓ, nₜ, t_max, left_bc, right_bc, u₀)\n",
    "    assemble_system!(problem)\n",
    "    t, u = solve(problem, CrankNicolsonMethod())\n",
    "    error = norm(u[end] .- u_hi_spl.(problem.x), Inf)\n",
    "    push!(error_values, error)\n",
    "end\n",
    "\n",
    "scatter(Δx_values, error_values, label = \"Infinity norm error\",\n",
    "        title = \"Rate of Convergence in Space with FD\", xscale = :log10, yscale = :log10, legend = :bottomright)\n",
    "xticks!([2e-3, 4e-3, 1e-2])\n",
    "xlabel!(\"Δx\"); ylabel!(\"Error\")\n",
    "plot!(Δx_values, Δx_values.^2, label = \"Quadratic in Δx\")"
   ]
  },
  {
   "cell_type": "markdown",
   "metadata": {},
   "source": [
    "We can see that the convergence in space is quadratic, which we expect from using finite differences for the second derivative and having periodic boundary conditions. Finally, we integrate $u_{0} = \\sin(4\\pi x)$ to $t = 10$:"
   ]
  },
  {
   "cell_type": "code",
   "execution_count": null,
   "metadata": {},
   "outputs": [],
   "source": [
    "a = 0; b = 1\n",
    "ϵ = 0.1\n",
    "nₓ = 100; nₜ = 10_000; t_max = 10.\n",
    "left_bc = PeriodicBC(); right_bc = PeriodicBC()\n",
    "u₀(x) = sin(4*π*x)\n",
    "\n",
    "problem = AllenCahnProblem1D(a, b, ϵ, nₓ, nₜ, t_max, left_bc, right_bc, u₀)\n",
    "assemble_system!(problem)\n",
    "t, u = solve(problem, CrankNicolsonMethod())\n",
    "\n",
    "u = permutedims(reshape(hcat(u...), (length(u[1]), length(u))))\n",
    "contourf(problem.x, t, u, xlabel = \"x\", ylabel = \"t\", title = \"Evolution of Solution\")"
   ]
  }
 ],
 "metadata": {
  "kernelspec": {
   "display_name": "Julia 1.6.0",
   "language": "julia",
   "name": "julia-1.6"
  },
  "language_info": {
   "file_extension": ".jl",
   "mimetype": "application/julia",
   "name": "julia",
   "version": "1.6.0"
  }
 },
 "nbformat": 4,
 "nbformat_minor": 2
}
